{
  "nbformat": 4,
  "nbformat_minor": 0,
  "metadata": {
    "colab": {
      "provenance": []
    },
    "kernelspec": {
      "name": "python3",
      "display_name": "Python 3"
    },
    "language_info": {
      "name": "python"
    }
  },
  "cells": [
    {
      "cell_type": "markdown",
      "source": [
        "# 1. Hello, World!\n",
        "🙋"
      ],
      "metadata": {
        "id": "C0PokoIGlsV1"
      }
    },
    {
      "cell_type": "code",
      "execution_count": 1,
      "metadata": {
        "colab": {
          "base_uri": "https://localhost:8080/"
        },
        "id": "DzH3eIXUjTcE",
        "outputId": "be4b849a-7da3-4b8e-9ea7-d2b2c3183af2"
      },
      "outputs": [
        {
          "output_type": "stream",
          "name": "stdout",
          "text": [
            "Hello, World!\n",
            "Hello Again\n",
            "I like typing this.\n",
            "This is fun.\n",
            "Yay! Printing.\n",
            "I'd much rather you 'not'.\n",
            "I \"said\" do not touch this.\n"
          ]
        }
      ],
      "source": [
        "print(\"Hello, World!\")\n",
        "print(\"Hello Again\")\n",
        "print(\"I like typing this.\")\n",
        "print(\"This is fun.\")\n",
        "print('Yay! Printing.')\n",
        "print(\"I'd much rather you 'not'.\")\n",
        "print('I \"said\" do not touch this.')"
      ]
    },
    {
      "cell_type": "markdown",
      "source": [
        "# 2. Variables and Data Types\n"
      ],
      "metadata": {
        "id": "yl6zrdrHlqmf"
      }
    },
    {
      "cell_type": "code",
      "source": [
        "name = \"Alice\"\n",
        "age = 25\n",
        "height = 5.6  # in feet\n",
        "is_student = True\n",
        "print(\"Name:\", name)\n",
        "print(\"Age:\", age)\n",
        "print(\"Height:\", height)\n",
        "print(\"Is Student:\", is_student)"
      ],
      "metadata": {
        "colab": {
          "base_uri": "https://localhost:8080/"
        },
        "id": "DTVdv-qOlpAI",
        "outputId": "280f8ed0-2ecc-4512-f3c9-ab836872e13b"
      },
      "execution_count": 2,
      "outputs": [
        {
          "output_type": "stream",
          "name": "stdout",
          "text": [
            "Name: Alice\n",
            "Age: 25\n",
            "Height: 5.6\n",
            "Is Student: True\n"
          ]
        }
      ]
    },
    {
      "cell_type": "markdown",
      "source": [
        "# 3. Taking User Input\n"
      ],
      "metadata": {
        "id": "B3jc5ESollUc"
      }
    },
    {
      "cell_type": "code",
      "source": [
        "\n",
        "user_name = input(\"Enter your name: \")\n",
        "print(\"Hello, \" + user_name + \"!\")"
      ],
      "metadata": {
        "colab": {
          "base_uri": "https://localhost:8080/"
        },
        "id": "UD9YPG8zjxh7",
        "outputId": "b4cc8c5c-0dad-4ed7-cde2-929d721e39ce"
      },
      "execution_count": 3,
      "outputs": [
        {
          "name": "stdout",
          "output_type": "stream",
          "text": [
            "Enter your name: kiran\n"
          ]
        }
      ]
    },
    {
      "cell_type": "markdown",
      "source": [
        "# 4. Conditional Statements\n"
      ],
      "metadata": {
        "id": "Zr9qibHvljm2"
      }
    },
    {
      "cell_type": "code",
      "source": [
        "age = int(input(\"Enter your age: \"))\n",
        "if age < 18:\n",
        "    print(\"You are a minor.\")\n",
        "elif age >= 18 and age < 60:\n",
        "    print(\"You are an adult.\")\n",
        "else:\n",
        "    print(\"You are a senior.\")"
      ],
      "metadata": {
        "colab": {
          "base_uri": "https://localhost:8080/"
        },
        "id": "_kZl6uYvliaa",
        "outputId": "c9f98709-8838-42ca-c4bb-4ecdb444644a"
      },
      "execution_count": 4,
      "outputs": [
        {
          "output_type": "stream",
          "name": "stdout",
          "text": [
            "Enter your age: 26\n",
            "You are an adult.\n"
          ]
        }
      ]
    },
    {
      "cell_type": "markdown",
      "source": [
        "# 5. Loops (For and While)\n"
      ],
      "metadata": {
        "id": "-v0RCygzlfjB"
      }
    },
    {
      "cell_type": "code",
      "source": [
        "print(\"For loop: 1 to 5\")\n",
        "for i in range(1, 6):\n",
        "    print(i)\n",
        "\n",
        "print(\"While loop: 5 to 1\")\n",
        "num = 5\n",
        "while num > 0:\n",
        "    print(num)\n",
        "    num -= 1\n"
      ],
      "metadata": {
        "colab": {
          "base_uri": "https://localhost:8080/"
        },
        "id": "e-CZePHalePU",
        "outputId": "f35e26be-334c-487a-e603-9bd63ef57b47"
      },
      "execution_count": 5,
      "outputs": [
        {
          "output_type": "stream",
          "name": "stdout",
          "text": [
            "For loop: 1 to 5\n",
            "1\n",
            "2\n",
            "3\n",
            "4\n",
            "5\n",
            "While loop: 5 to 1\n",
            "5\n",
            "4\n",
            "3\n",
            "2\n",
            "1\n"
          ]
        }
      ]
    },
    {
      "cell_type": "code",
      "source": [],
      "metadata": {
        "id": "EGtf5Vj-ld4D"
      },
      "execution_count": 5,
      "outputs": []
    },
    {
      "cell_type": "markdown",
      "source": [
        "# 6. Functions\n"
      ],
      "metadata": {
        "id": "V2HhxRhplbte"
      }
    },
    {
      "cell_type": "code",
      "source": [
        "def greet(name):\n",
        "    print(\"Hello, \" + name + \"!\")\n",
        "\n",
        "greet(\"Alice\")\n",
        "greet(\"Bob\")"
      ],
      "metadata": {
        "colab": {
          "base_uri": "https://localhost:8080/"
        },
        "id": "jjKNrLBGlaMB",
        "outputId": "b8886436-fb9e-4e37-96fa-18ecb1bd1296"
      },
      "execution_count": 6,
      "outputs": [
        {
          "output_type": "stream",
          "name": "stdout",
          "text": [
            "Hello, Alice!\n",
            "Hello, Bob!\n"
          ]
        }
      ]
    },
    {
      "cell_type": "markdown",
      "source": [
        "# 7. Lists\n"
      ],
      "metadata": {
        "id": "bAJzZNstlX27"
      }
    },
    {
      "cell_type": "code",
      "source": [
        "\n",
        "fruits = [\"apple\", \"banana\", \"cherry\"]\n",
        "fruits.append(\"orange\")  # Adding an item\n",
        "print(\"Fruits list:\")\n",
        "for fruit in fruits:\n",
        "    print(fruit)"
      ],
      "metadata": {
        "colab": {
          "base_uri": "https://localhost:8080/"
        },
        "id": "rmN3sKQuj33A",
        "outputId": "b791ef69-0dc5-41bb-b89a-1f22bd3fe928"
      },
      "execution_count": 7,
      "outputs": [
        {
          "output_type": "stream",
          "name": "stdout",
          "text": [
            "Fruits list:\n",
            "apple\n",
            "banana\n",
            "cherry\n",
            "orange\n"
          ]
        }
      ]
    },
    {
      "cell_type": "markdown",
      "source": [
        "# 8. Dictionaries\n"
      ],
      "metadata": {
        "id": "Y9XzT_b5lWDe"
      }
    },
    {
      "cell_type": "code",
      "source": [
        "person = {\n",
        "    \"name\": \"Alice\",\n",
        "    \"age\": 25,\n",
        "    \"city\": \"New York\"\n",
        "}\n",
        "print(\"Name from dictionary:\", person[\"name\"])\n",
        "print(\"Age from dictionary:\", person.get(\"age\"))\n",
        "person[\"job\"] = \"Engineer\"  # Adding a new key-value pair\n",
        "print(\"Updated person dictionary:\", person)"
      ],
      "metadata": {
        "colab": {
          "base_uri": "https://localhost:8080/"
        },
        "id": "_iECWX0Fj50-",
        "outputId": "0cb6a231-713f-44fa-e0a4-eff39f41546a"
      },
      "execution_count": 8,
      "outputs": [
        {
          "output_type": "stream",
          "name": "stdout",
          "text": [
            "Name from dictionary: Alice\n",
            "Age from dictionary: 25\n",
            "Updated person dictionary: {'name': 'Alice', 'age': 25, 'city': 'New York', 'job': 'Engineer'}\n"
          ]
        }
      ]
    },
    {
      "cell_type": "markdown",
      "source": [
        "# 9. Reading from and Writing to Files\n"
      ],
      "metadata": {
        "id": "eMOPn_BelUYC"
      }
    },
    {
      "cell_type": "code",
      "source": [
        "# Writing to a text file\n",
        "with open(\"example.txt\", \"w\") as file:\n",
        "    file.write(\"This is an example text file.\")\n",
        "\n",
        "# Reading from a text file\n",
        "with open(\"example.txt\", \"r\") as file:\n",
        "    content = file.read()\n",
        "    print(\"File Content:\")\n",
        "    print(content)"
      ],
      "metadata": {
        "colab": {
          "base_uri": "https://localhost:8080/"
        },
        "id": "sHp1Ii8Kj_4e",
        "outputId": "f24c6c55-b040-408c-8a7e-b7a16a65dd28"
      },
      "execution_count": 9,
      "outputs": [
        {
          "output_type": "stream",
          "name": "stdout",
          "text": [
            "File Content:\n",
            "This is an example text file.\n"
          ]
        }
      ]
    },
    {
      "cell_type": "markdown",
      "source": [
        "# 10. Writing to and Reading from a CSV File\n"
      ],
      "metadata": {
        "id": "ixb6GoEGlQVJ"
      }
    },
    {
      "cell_type": "code",
      "source": [
        "import csv\n",
        "\n",
        "# Writing data to a CSV file\n",
        "with open(\"data.csv\", \"w\", newline=\"\") as csvfile:\n",
        "    writer = csv.writer(csvfile)\n",
        "    # Writing the header\n",
        "    writer.writerow([\"Name\", \"Age\", \"City\"])\n",
        "    # Writing some data rows\n",
        "    writer.writerow([\"Alice\", 25, \"New York\"])\n",
        "    writer.writerow([\"Bob\", 30, \"San Francisco\"])\n",
        "    writer.writerow([\"Charlie\", 22, \"Los Angeles\"])\n",
        "\n",
        "print(\"CSV file 'data.csv' written successfully.\")"
      ],
      "metadata": {
        "colab": {
          "base_uri": "https://localhost:8080/"
        },
        "id": "idmJEbZCkG9X",
        "outputId": "3af769f7-3a62-42e0-be78-7ec3107ef12c"
      },
      "execution_count": 10,
      "outputs": [
        {
          "output_type": "stream",
          "name": "stdout",
          "text": [
            "CSV file 'data.csv' written successfully.\n"
          ]
        }
      ]
    },
    {
      "cell_type": "markdown",
      "source": [
        "# Reading data from a CSV file\n"
      ],
      "metadata": {
        "id": "Yrdxc4eilODu"
      }
    },
    {
      "cell_type": "code",
      "source": [
        "with open(\"data.csv\", \"r\") as csvfile:\n",
        "    reader = csv.reader(csvfile)\n",
        "    print(\"CSV File Content:\")\n",
        "    for row in reader:\n",
        "        print(row)"
      ],
      "metadata": {
        "colab": {
          "base_uri": "https://localhost:8080/"
        },
        "id": "yROiIBdJkJyq",
        "outputId": "7b25db6b-1065-4a50-a78a-c07daa52a347"
      },
      "execution_count": 11,
      "outputs": [
        {
          "output_type": "stream",
          "name": "stdout",
          "text": [
            "CSV File Content:\n",
            "['Name', 'Age', 'City']\n",
            "['Alice', '25', 'New York']\n",
            "['Bob', '30', 'San Francisco']\n",
            "['Charlie', '22', 'Los Angeles']\n"
          ]
        }
      ]
    },
    {
      "cell_type": "markdown",
      "source": [
        "# 1. Load Iris Dataset into a DataFrame\n"
      ],
      "metadata": {
        "id": "Xkpwpdvik1el"
      }
    },
    {
      "cell_type": "code",
      "source": [
        "import pandas as pd\n",
        "from sklearn.datasets import load_iris\n",
        "\n",
        "iris = load_iris()\n",
        "df = pd.DataFrame(iris.data, columns=iris.feature_names)\n",
        "df['species'] = iris.target\n",
        "\n",
        "\n"
      ],
      "metadata": {
        "id": "_DrGb6efjW9b"
      },
      "execution_count": 12,
      "outputs": []
    },
    {
      "cell_type": "markdown",
      "source": [
        "# 2. Basic Preprocessing\n"
      ],
      "metadata": {
        "id": "MzCU7sR6k4GJ"
      }
    },
    {
      "cell_type": "code",
      "source": [
        "df.columns = ['Sepal Length (cm)', 'Sepal Width (cm)',\n",
        "              'Petal Length (cm)', 'Petal Width (cm)', 'Species']\n",
        "df['Species'] = df['Species'].replace({0: 'setosa', 1: 'versicolor', 2: 'virginica'})\n"
      ],
      "metadata": {
        "id": "z9R7WaQmjW5_"
      },
      "execution_count": 13,
      "outputs": []
    },
    {
      "cell_type": "markdown",
      "source": [
        "# 3. Check for Missing Values and Drop Duplicates\n"
      ],
      "metadata": {
        "id": "MG4gl_imk9yj"
      }
    },
    {
      "cell_type": "code",
      "source": [
        "print(\"Missing Values:\\n\", df.isnull().sum())\n",
        "df_unique = df.drop_duplicates()\n",
        "\n"
      ],
      "metadata": {
        "colab": {
          "base_uri": "https://localhost:8080/"
        },
        "id": "zatOMpbdjW3a",
        "outputId": "3a1c4e37-cc51-4eb1-fe40-a76afd1bbda3"
      },
      "execution_count": 14,
      "outputs": [
        {
          "output_type": "stream",
          "name": "stdout",
          "text": [
            "Missing Values:\n",
            " Sepal Length (cm)    0\n",
            "Sepal Width (cm)     0\n",
            "Petal Length (cm)    0\n",
            "Petal Width (cm)     0\n",
            "Species              0\n",
            "dtype: int64\n"
          ]
        }
      ]
    },
    {
      "cell_type": "markdown",
      "source": [
        "# 4. Filter Rows (Sepal Length > 5.0 cm)\n"
      ],
      "metadata": {
        "id": "hfwp4Dh2lA9O"
      }
    },
    {
      "cell_type": "code",
      "source": [
        "filtered_df = df_unique[df_unique['Sepal Length (cm)'] > 5.0]\n"
      ],
      "metadata": {
        "id": "A7KFevP0lGZ3"
      },
      "execution_count": 15,
      "outputs": []
    },
    {
      "cell_type": "markdown",
      "source": [
        "# 5. Save Filtered Data to CSV\n"
      ],
      "metadata": {
        "id": "yuywLBvulKWS"
      }
    },
    {
      "cell_type": "code",
      "source": [
        "filtered_df.to_csv(\"filtered_iris.csv\", index=False)\n",
        "print(\"Filtered data saved to 'filtered_iris.csv'.\")\n"
      ],
      "metadata": {
        "id": "MjR1rTvEjW0t",
        "colab": {
          "base_uri": "https://localhost:8080/"
        },
        "outputId": "bb7b235b-a2ab-4b91-b30a-4c2f315e4bc7"
      },
      "execution_count": 16,
      "outputs": [
        {
          "output_type": "stream",
          "name": "stdout",
          "text": [
            "Filtered data saved to 'filtered_iris.csv'.\n"
          ]
        }
      ]
    }
  ]
}